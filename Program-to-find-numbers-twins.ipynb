{
 "cells": [
  {
   "cell_type": "code",
   "execution_count": 3,
   "metadata": {},
   "outputs": [
    {
     "name": "stdout",
     "output_type": "stream",
     "text": [
      "n=1000\n",
      "[3, 5, 5, 7, 11, 13, 17, 19, 29, 31, 41, 43, 59, 61, 71, 73, 101, 103, 107, 109, 137, 139, 149, 151, 179, 181, 191, 193, 197, 199, 227, 229, 239, 241, 269, 271, 281, 283, 311, 313, 347, 349, 419, 421, 431, 433, 461, 463, 521, 523, 569, 571, 599, 601, 617, 619, 641, 643, 659, 661, 809, 811, 821, 823, 827, 829, 857, 859, 881, 883]\n"
     ]
    }
   ],
   "source": [
    "n = int(input(\"n=\"))\n",
    "lst = []\n",
    "lst2=[]\n",
    "y=n+1\n",
    "for i in range(2,y):\n",
    "    for j in range(2, i):\n",
    "        if i % j == 0:\n",
    "            break\n",
    "    else:\n",
    "        lst.append(i)\n",
    "for bliz in range (len(lst)):\n",
    "    for bliz2 in range(len(lst)):\n",
    "        if bliz2 != len(lst)-1:\n",
    "            ff=lst[bliz]-2\n",
    "            kk=ff+2\n",
    "    for bliz3 in range(len(lst)):\n",
    "        if ff==lst[bliz3]:\n",
    "            lst2.append(ff)\n",
    "            lst2.append(kk)\n",
    "print(lst2)"
   ]
  }
 ],
 "metadata": {
  "kernelspec": {
   "display_name": "Python 3",
   "language": "python",
   "name": "python3"
  },
  "language_info": {
   "codemirror_mode": {
    "name": "ipython",
    "version": 3
   },
   "file_extension": ".py",
   "mimetype": "text/x-python",
   "name": "python",
   "nbconvert_exporter": "python",
   "pygments_lexer": "ipython3",
   "version": "3.6.3"
  }
 },
 "nbformat": 4,
 "nbformat_minor": 2
}
